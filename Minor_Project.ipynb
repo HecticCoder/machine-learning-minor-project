{
  "nbformat": 4,
  "nbformat_minor": 0,
  "metadata": {
    "colab": {
      "name": "Mini Project",
      "provenance": [],
      "authorship_tag": "ABX9TyP9uovGYWU/h1oQ4vWhPvWI",
      "include_colab_link": true
    },
    "kernelspec": {
      "name": "python3",
      "display_name": "Python 3"
    }
  },
  "cells": [
    {
      "cell_type": "markdown",
      "metadata": {
        "id": "view-in-github",
        "colab_type": "text"
      },
      "source": [
        "<a href=\"https://colab.research.google.com/github/HecticCoder/app/blob/main/Mini_Project.ipynb\" target=\"_parent\"><img src=\"https://colab.research.google.com/assets/colab-badge.svg\" alt=\"Open In Colab\"/></a>"
      ]
    },
    {
      "cell_type": "markdown",
      "metadata": {
        "id": "AYcdUACwF14r"
      },
      "source": [
        "GATHERING DATA\r\n"
      ]
    },
    {
      "cell_type": "code",
      "metadata": {
        "colab": {
          "base_uri": "https://localhost:8080/"
        },
        "id": "DJDZz8fKEdlM",
        "outputId": "050533dd-f4dc-430b-ed70-204f57c74f42"
      },
      "source": [
        "!pip install bing-image-downloader"
      ],
      "execution_count": 2,
      "outputs": [
        {
          "output_type": "stream",
          "text": [
            "Collecting bing-image-downloader\n",
            "  Downloading https://files.pythonhosted.org/packages/0d/bf/537a61030b84ae4cd5022d5c7b014fd9bc3ce7c02358919153a6658a61d3/bing_image_downloader-1.0.4-py3-none-any.whl\n",
            "Installing collected packages: bing-image-downloader\n",
            "Successfully installed bing-image-downloader-1.0.4\n"
          ],
          "name": "stdout"
        }
      ]
    },
    {
      "cell_type": "code",
      "metadata": {
        "id": "7SFHhI91EsGG"
      },
      "source": [
        "!mkdir images\r\n"
      ],
      "execution_count": 3,
      "outputs": []
    },
    {
      "cell_type": "code",
      "metadata": {
        "colab": {
          "base_uri": "https://localhost:8080/"
        },
        "id": "BuUXonhRExpL",
        "outputId": "e76247b6-a127-41b9-daf7-15e8020fb4f3"
      },
      "source": [
        "from bing_image_downloader import downloader\r\n",
        "downloader.download(\"car\",limit=60,output_dir= 'images',adult_filter_off= True )\r\n",
        "from bing_image_downloader import downloader\r\n",
        "downloader.download(\"motorcycle\",limit=60,output_dir= 'images',adult_filter_off= True )\r\n",
        "from bing_image_downloader import downloader\r\n",
        "downloader.download(\"helicopter\",limit=60,output_dir= 'images',adult_filter_off= True )"
      ],
      "execution_count": 5,
      "outputs": [
        {
          "output_type": "stream",
          "text": [
            "\n",
            "\n",
            "[!!]Indexing page: 1\n",
            "\n",
            "[%] Indexed 60 Images on Page 1.\n",
            "\n",
            "===============================================\n",
            "\n",
            "[%] Downloading Image #1 from https://www.hdnicewallpapers.com/Walls/Big/Chevrolet/2018_New_Launch_Chevrolet_Camaro_SS_Car.jpg\n",
            "[%] File Downloaded !\n",
            "\n",
            "[%] Downloading Image #2 from http://wallup.net/wp-content/uploads/2016/03/12/331857-Infiniti_Q60-tuning-car-vehicle-street.jpg\n",
            "[%] File Downloaded !\n",
            "\n",
            "[%] Downloading Image #3 from http://s3.caradvice.com.au/wp-content/uploads/2016/03/apollo-arrow-hero.jpg\n",
            "[%] File Downloaded !\n",
            "\n",
            "[%] Downloading Image #4 from https://s1.cdn.autoevolution.com/images/news/gallery/lamborghini-veneno-named-worlds-most-ugliest-car_10.jpg\n",
            "[%] File Downloaded !\n",
            "\n",
            "[%] Downloading Image #5 from https://s3.caradvice.com.au/wp-content/uploads/2013/10/Ferrari-F12-Berlinetta.jpg\n",
            "[%] File Downloaded !\n",
            "\n",
            "[%] Downloading Image #6 from https://s3.caradvice.com.au/wp-content/uploads/2011/12/Madagascar_Orange015.jpg\n",
            "[%] File Downloaded !\n",
            "\n",
            "[%] Downloading Image #7 from http://s3.caradvice.com.au/wp-content/uploads/2016/04/BMW-M2-025.jpg\n",
            "[%] File Downloaded !\n",
            "\n",
            "[%] Downloading Image #8 from https://s3.caradvice.com.au/wp-content/uploads/2016/06/2016-nissan_gtr-nissan_gt_r-26.jpg\n",
            "[%] File Downloaded !\n",
            "\n",
            "[%] Downloading Image #9 from https://www.carscoops.com/wp-content/uploads/2019/08/73174a7b-lamborghini-aventador-s-art-car-monterey-car-week-skyler-grey-0.jpg\n",
            "[%] File Downloaded !\n",
            "\n",
            "[%] Downloading Image #10 from https://cdni.autocarindia.com/ExtraImages/20180825122652_nsx_1.jpg\n",
            "[%] File Downloaded !\n",
            "\n",
            "[%] Downloading Image #11 from https://s1.cdn.autoevolution.com/images/news/gallery/your-guide-to-buying-a-used-sports-car_7.jpg\n",
            "[%] File Downloaded !\n",
            "\n",
            "[%] Downloading Image #12 from http://s3.caradvice.com.au/wp-content/uploads/2014/08/JOSS-JP-1-supercar-side.jpg\n",
            "[%] File Downloaded !\n",
            "\n",
            "[%] Downloading Image #13 from https://www.hdcarwallpapers.com/download/2021_toyota_gr_supra_2_5k-1600x900.jpg\n",
            "[%] File Downloaded !\n",
            "\n",
            "[%] Downloading Image #14 from https://s1.cdn.autoevolution.com/images/news/gallery/lamborghini-veneno-named-worlds-most-ugliest-car_4.jpg\n",
            "[%] File Downloaded !\n",
            "\n",
            "[%] Downloading Image #15 from https://s1.cdn.autoevolution.com/images/news/gallery/pure-electric-mclaren-hypercar-in-the-works-p1-replacement-due-in-2023_10.jpeg\n",
            "[%] File Downloaded !\n",
            "\n",
            "[%] Downloading Image #16 from https://www.hdnicewallpapers.com/Walls/Big/Ferrari/Superb_Photo_of_Blue_Ferrari_Car.jpg\n",
            "[%] File Downloaded !\n",
            "\n",
            "[%] Downloading Image #17 from http://godfatherstyle.com/wp-content/uploads/2016/03/5-lamborghini-gallardo-car-wallpaper.jpg\n",
            "[%] File Downloaded !\n",
            "\n",
            "[%] Downloading Image #18 from https://www.carscoops.com/wp-content/uploads/2020/02/VEGA-EVX.jpg\n",
            "[%] File Downloaded !\n",
            "\n",
            "[%] Downloading Image #19 from https://s1.cdn.autoevolution.com/images/news/gallery/new-nissan-400z-sports-car-gets-suv-makeover-sedan-also-looks-nice_19.jpg\n",
            "[%] File Downloaded !\n",
            "\n",
            "[%] Downloading Image #20 from https://s1.cdn.autoevolution.com/images/news/gallery/porsche-mission-e-renamed-taycan-electric-car-to-launch-in-2019_19.jpg\n",
            "[%] File Downloaded !\n",
            "\n",
            "[%] Downloading Image #21 from https://s1.cdn.autoevolution.com/images/news/gallery/new-nissan-z-car-isn-t-coming-soon-370z-lives-on_9.jpg\n",
            "[%] File Downloaded !\n",
            "\n",
            "[%] Downloading Image #22 from https://car-images.bauersecure.com/pagefiles/32631/1752x1168/mc-001.jpg?mode=max&amp;quality=90&amp;scale=down\n",
            "[%] File Downloaded !\n",
            "\n",
            "[%] Downloading Image #23 from https://carancestry.com/wp-content/uploads/2018/04/424227.jpg\n",
            "[%] File Downloaded !\n",
            "\n",
            "[%] Downloading Image #24 from https://s3.caradvice.com.au/wp-content/uploads/2010/12/mclaren-mp4-12c-gt3.jpg\n",
            "[%] File Downloaded !\n",
            "\n",
            "[%] Downloading Image #25 from https://www.luxury-sports-cars.com/wp-content/uploads/2016/08/luxury-car-rankings-best-photos-8.jpg\n",
            "[%] File Downloaded !\n",
            "\n",
            "[%] Downloading Image #26 from https://sazwallpapers.files.wordpress.com/2010/10/super-car-wallpapers.jpg\n",
            "[%] File Downloaded !\n",
            "\n",
            "[%] Downloading Image #27 from https://weneedfun.com/wp-content/uploads/2017/09/Lotus-Elise-Car12.jpg\n",
            "[%] File Downloaded !\n",
            "\n",
            "[%] Downloading Image #28 from http://wallup.net/wp-content/uploads/2016/01/208918-car-luxury_cars-zenvo-zenvo_st1.jpg\n",
            "[%] File Downloaded !\n",
            "\n",
            "[%] Downloading Image #29 from https://s3.caradvice.com.au/wp-content/uploads/2015/03/Porsche-918-Spyder1.jpg\n",
            "[%] File Downloaded !\n",
            "\n",
            "[%] Downloading Image #30 from https://www.pixelstalk.net/wp-content/uploads/2016/06/Lamborghini-wallpaper-hd-cool-car.jpg\n",
            "[%] File Downloaded !\n",
            "\n",
            "[%] Downloading Image #31 from https://www.carscoops.com/wp-content/uploads/2020/09/Hyundai-RM20e-Prototype.jpg\n",
            "[%] File Downloaded !\n",
            "\n",
            "[%] Downloading Image #32 from https://s3.caradvice.com.au/wp-content/uploads/2010/11/215_Kia_Kee_01-e1288670518879.jpg\n",
            "[%] File Downloaded !\n",
            "\n",
            "[%] Downloading Image #33 from https://www.supercars.net/blog/wp-content/uploads/2019/12/Current-Lotus-Car-Lineup.jpg\n",
            "[%] File Downloaded !\n",
            "\n",
            "[%] Downloading Image #34 from https://www.carscoops.com/wp-content/uploads/2019/03/e16313d2-toyota-btcc-corolla-preseason-00.jpg\n",
            "[%] File Downloaded !\n",
            "\n",
            "[%] Downloading Image #35 from https://s3.caradvice.com.au/wp-content/uploads/2012/07/renault-clio-32.jpg\n",
            "[%] File Downloaded !\n",
            "\n",
            "[%] Downloading Image #36 from https://s1.cdn.autoevolution.com/images/news/gallery/sergio-pininfarina-one-of-the-godfathers-of-italian-car-design_3.jpg\n",
            "[%] File Downloaded !\n",
            "\n",
            "[%] Downloading Image #37 from https://www.luxury-sports-cars.com/wp-content/uploads/2016/08/luxury-car-dealers-best-photos-9.jpg\n",
            "[%] File Downloaded !\n",
            "\n",
            "[%] Downloading Image #38 from http://thewowstyle.com/wp-content/uploads/2015/02/Audi-car-wallpaper-1.jpg\n",
            "[%] File Downloaded !\n",
            "\n",
            "[%] Downloading Image #39 from https://s1.cdn.autoevolution.com/images/news/gallery/lamborghini-boss-confirms-next-generation-super-sports-car-platform_10.jpeg\n",
            "[%] File Downloaded !\n",
            "\n",
            "[%] Downloading Image #40 from https://www.hdwallpapers.in/download/renault_alpine_concept_car-1920x1080.jpg\n",
            "[%] File Downloaded !\n",
            "\n",
            "[%] Downloading Image #41 from https://im.rediff.com/money/2013/mar/20car-market1.jpg\n",
            "[%] File Downloaded !\n",
            "\n",
            "[%] Downloading Image #42 from https://weneedfun.com/wp-content/uploads/2017/09/Bugatti-Veyron-Car-9.jpg\n",
            "[%] File Downloaded !\n",
            "\n",
            "[%] Downloading Image #43 from http://s3.caradvice.com.au/wp-content/uploads/2014/02/Renault_54522_global_en.jpg\n",
            "[%] File Downloaded !\n",
            "\n",
            "[%] Downloading Image #44 from https://s3.caradvice.com.au/wp-content/uploads/2014/01/bmw-m3.jpg\n",
            "[%] File Downloaded !\n",
            "\n",
            "[%] Downloading Image #45 from http://www.hdwallpapers.in/download/rimac_concept_one_concept_car-1920x1080.jpg\n",
            "[%] File Downloaded !\n",
            "\n",
            "[%] Downloading Image #46 from https://s1.cdn.autoevolution.com/images/news/gallery/pony-car-sales_12.jpeg\n",
            "[%] File Downloaded !\n",
            "\n",
            "[%] Downloading Image #47 from https://s1.cdn.autoevolution.com/images/news/gallery/porsche-mission-e-renamed-taycan-electric-car-to-launch-in-2019_12.jpg\n",
            "[%] File Downloaded !\n",
            "\n",
            "[%] Downloading Image #48 from http://www.stancenation.com/wp-content/uploads/2014/06/Top-Style-VIP-Car-Event-Japan-210-1140x760.jpg\n",
            "[%] File Downloaded !\n",
            "\n",
            "[%] Downloading Image #49 from http://digitalsynopsis.com/wp-content/uploads/2014/06/supercar-wallpapers-bugatti-3.jpg\n",
            "[%] File Downloaded !\n",
            "\n",
            "[%] Downloading Image #50 from https://www.hdcarwallpapers.com/walls/2015_lexus_gs-HD.jpg\n",
            "[%] File Downloaded !\n",
            "\n",
            "[%] Downloading Image #51 from https://www.carscoops.com/wp-content/uploads/2020/10/SSC_Tuatara_00.jpg\n",
            "[%] File Downloaded !\n",
            "\n",
            "[%] Downloading Image #52 from https://www.carscoops.com/wp-content/uploads/2018/05/Porsche-911-Classic-00.jpg\n",
            "[%] File Downloaded !\n",
            "\n",
            "[%] Downloading Image #53 from https://s3.caradvice.com.au/wp-content/uploads/2011/12/foton-tunland-front1.jpg\n",
            "[%] File Downloaded !\n",
            "\n",
            "[%] Downloading Image #54 from https://s1.cdn.autoevolution.com/images/news/gallery/porsche-mission-e-renamed-taycan-electric-car-to-launch-in-2019_29.jpg\n",
            "[%] File Downloaded !\n",
            "\n",
            "[%] Downloading Image #55 from https://www.italdesign.it/wp-content/uploads/2016/03/68202_IMG_3855.jpg\n",
            "[%] File Downloaded !\n",
            "\n",
            "[%] Downloading Image #56 from https://www.carscoops.com/wp-content/uploads/2020/06/Lotus-Track-Car-Concept-1a.jpg\n",
            "[%] File Downloaded !\n",
            "\n",
            "[%] Downloading Image #57 from https://www.hdnicewallpapers.com/Walls/Big/Hyundai/Blue_Hyundai_Car_Wallpaper.jpg\n",
            "[%] File Downloaded !\n",
            "\n",
            "[%] Downloading Image #58 from http://s3.caradvice.com.au/wp-content/uploads/2013/08/HSV-GTS-38.jpg\n",
            "[%] File Downloaded !\n",
            "\n",
            "[%] Downloading Image #59 from https://s1.cdn.autoevolution.com/images/news/gallery/pony-car-sales_9.jpeg\n",
            "[%] File Downloaded !\n",
            "\n",
            "[%] Downloading Image #60 from http://s3.caradvice.com.au/wp-content/uploads/2012/09/honda-nsx-concept.jpg\n",
            "[%] File Downloaded !\n",
            "\n",
            "\n",
            "\n",
            "[!!]Indexing page: 1\n",
            "\n",
            "[%] Indexed 60 Images on Page 1.\n",
            "\n",
            "===============================================\n",
            "\n",
            "[%] Downloading Image #1 from https://upload.wikimedia.org/wikipedia/commons/thumb/2/2e/Norton_Motorcycle.jpg/1920px-Norton_Motorcycle.jpg\n",
            "[%] File Downloaded !\n",
            "\n",
            "[%] Downloading Image #2 from https://www.totalmotorcycle.com/wp-content/uploads/2018/08/2019-Harley-Davidson-Roadster3.jpg\n",
            "[%] File Downloaded !\n",
            "\n",
            "[%] Downloading Image #3 from http://luxurylaunches.com/wp-content/uploads/2014/09/midual-type-1-motorcycle-6.jpg\n",
            "[%] File Downloaded !\n",
            "\n",
            "[%] Downloading Image #4 from https://silodrome.com/wp-content/uploads/2018/05/BMW-R807-Motorcycle-Rear.jpg\n",
            "[%] File Downloaded !\n",
            "\n",
            "[%] Downloading Image #5 from https://www.totalmotorcycle.com/wp-content/uploads/2018/10/2019-Yamaha-Bolt3.jpg\n",
            "[%] File Downloaded !\n",
            "\n",
            "[%] Downloading Image #6 from https://www.totalmotorcycle.com/wp-content/uploads/2018/10/2019-Suzuki-Hayabusa3.jpg\n",
            "[%] File Downloaded !\n",
            "\n",
            "[%] Downloading Image #7 from https://www.motorbiscuit.com/wp-content/uploads/2020/10/Arch-Motorcycle-Method-143.jpg\n",
            "[%] File Downloaded !\n",
            "\n",
            "[%] Downloading Image #8 from https://cdn.hiconsumption.com/wp-content/uploads/2017/03/Italian-Volt-Electric-Motorcycle-00.jpg\n",
            "[%] File Downloaded !\n",
            "\n",
            "[%] Downloading Image #9 from http://silodrome.com/wp-content/uploads/2016/08/Honda-CB550-Motorcycle.jpg\n",
            "[%] File Downloaded !\n",
            "\n",
            "[%] Downloading Image #10 from https://silodrome.com/wp-content/uploads/2018/03/Matchless-G50-Motorcycle.jpg\n",
            "[%] File Downloaded !\n",
            "\n",
            "[%] Downloading Image #11 from https://www.totalmotorcycle.com/wp-content/uploads/2018/08/2019-Indian-Scout-Sixty1.jpg\n",
            "[%] File Downloaded !\n",
            "\n",
            "[%] Downloading Image #12 from https://silodrome.com/wp-content/uploads/2017/08/ExoDyne-Electric-Motorcycle-9.jpg\n",
            "[%] File Downloaded !\n",
            "\n",
            "[%] Downloading Image #13 from https://www.totalmotorcycle.com/wp-content/uploads/2018/11/2019-Kawasaki-Ninja-H2-SX3.jpg\n",
            "[%] File Downloaded !\n",
            "\n",
            "[%] Downloading Image #14 from http://www.bikebound.com/wp-content/uploads/2015/07/Arrow-Show-Motorcycle.jpg\n",
            "[%] File Downloaded !\n",
            "\n",
            "[%] Downloading Image #15 from https://silodrome.com/wp-content/uploads/2017/08/ExoDyne-Electric-Motorcycle-14-1480x1196.jpg\n",
            "[%] File Downloaded !\n",
            "\n",
            "[%] Downloading Image #16 from http://www.motionmotorcycle.com/wp-content/uploads/2015/09/IMG_20150512_150405.jpg\n",
            "[%] File Downloaded !\n",
            "\n",
            "[%] Downloading Image #17 from https://s1.cdn.autoevolution.com/images/news/gallery/bmw-claims-six-2013-best-of-motorcyclecom-awards_3.jpg\n",
            "[%] File Downloaded !\n",
            "\n",
            "[%] Downloading Image #18 from https://blog.motorcycle.com/wp-content/uploads/2016/07/Janus-Halcyon-250-4_feature.jpg\n",
            "[%] File Downloaded !\n",
            "\n",
            "[%] Downloading Image #19 from https://www.theburnin.com/wp-content/uploads/2019/03/Zero-electric-motorcycle-.png\n",
            "[%] File Downloaded !\n",
            "\n",
            "[%] Downloading Image #20 from http://silodrome.com/wp-content/uploads/2014/02/Paton-moto-motorcycle-2.jpg\n",
            "[%] File Downloaded !\n",
            "\n",
            "[%] Downloading Image #21 from https://electrek.co/wp-content/uploads/sites/3/2018/10/zero-s-header.jpg?quality=82&amp;strip=all\n",
            "[%] File Downloaded !\n",
            "\n",
            "[%] Downloading Image #22 from https://blog.motorcycle.com/wp-content/uploads/2015/10/CBR1000RR.jpg\n",
            "[%] File Downloaded !\n",
            "\n",
            "[%] Downloading Image #23 from https://www.hdnicewallpapers.com/Walls/Big/Bikes/Harley_Davidson_V_Rod_Muscle_White_Motorcycle.jpg\n",
            "[%] File Downloaded !\n",
            "\n",
            "[%] Downloading Image #24 from https://wordlesstech.com/wp-content/uploads/2011/09/BMW-Husqvarna-Electric-Motorcycle-3.jpg\n",
            "[%] File Downloaded !\n",
            "\n",
            "[%] Downloading Image #25 from https://pictures.topspeed.com/IMG/jpg/201108/2011-star-motorcycle-vmax-1.jpg\n",
            "[%] File Downloaded !\n",
            "\n",
            "[%] Downloading Image #26 from https://www.totalmotorcycle.com/wp-content/uploads/2019/03/2020-BMW-S1000RR7.jpg\n",
            "[%] File Downloaded !\n",
            "\n",
            "[%] Downloading Image #27 from https://static.advrider.com/wp-content/uploads/2019/06/Arc-vector-electric-motorcycle-first-look-3.jpg\n",
            "[%] File Downloaded !\n",
            "\n",
            "[%] Downloading Image #28 from https://s1.cdn.autoevolution.com/images/news/gallery/hubless-verge-ts-electric-motorcycle-is-here-to-finnish-off-harleys-livewire_6.jpg\n",
            "[%] File Downloaded !\n",
            "\n",
            "[%] Downloading Image #29 from https://silodrome.com/wp-content/uploads/2015/03/BMW-Motorcycle-1.jpg\n",
            "[%] File Downloaded !\n",
            "\n",
            "[%] Downloading Image #30 from https://www.totalmotorcycle.com/wp-content/uploads/2016/12/1979-Honda-CB750Fa.jpg\n",
            "[%] File Downloaded !\n",
            "\n",
            "[%] Downloading Image #31 from https://silodrome.com/wp-content/uploads/2016/12/bmw-r75-motorcycle-10.jpg\n",
            "[%] File Downloaded !\n",
            "\n",
            "[%] Downloading Image #32 from https://silodrome.com/wp-content/uploads/2013/12/Motus-MST-Motorcycle.jpg\n",
            "[%] File Downloaded !\n",
            "\n",
            "[%] Downloading Image #33 from https://wordlesstech.com/wp-content/uploads/2018/12/BMW-R9T-Aurora-Motorcycle-2.jpg\n",
            "[%] File Downloaded !\n",
            "\n",
            "[%] Downloading Image #34 from https://s1.cdn.autoevolution.com/images/news/gallery/honda-details-motorcycle-lineup-for-tokyo_4.jpg\n",
            "[%] File Downloaded !\n",
            "\n",
            "[%] Downloading Image #35 from https://motorcyclemelee.com/wp-content/uploads/2015/02/honda-streetfighter-motorcycle.jpg\n",
            "[%] File Downloaded !\n",
            "\n",
            "[%] Downloading Image #36 from http://cdn.thecoolist.com/wp-content/uploads/2017/08/Honda-Rebel-japanese-motorcycle.jpg\n",
            "[%] File Downloaded !\n",
            "\n",
            "[%] Downloading Image #37 from https://silodrome.com/wp-content/uploads/2017/03/AJS-7R-Motorcycle-Main-Hero.jpg\n",
            "[%] File Downloaded !\n",
            "\n",
            "[%] Downloading Image #38 from https://www.totalmotorcycle.com/wp-content/uploads/2018/09/2019-Yamaha-XSR900e.jpg\n",
            "[%] File Downloaded !\n",
            "\n",
            "[%] Downloading Image #39 from https://s1.cdn.autoevolution.com/images/news/gallery/indian-motorcycle-dealership-opens-in-sturgis_1.jpg\n",
            "[%] File Downloaded !\n",
            "\n",
            "[%] Downloading Image #40 from http://silodrome.com/wp-content/uploads/2014/11/Custom_Ducati_Motorcycle_12.jpg\n",
            "[%] File Downloaded !\n",
            "\n",
            "[%] Downloading Image #41 from https://emerginggrowth.com/wp-content/uploads/2017/12/Electric-Motorcycle-Development-Asia-Pacific-Partnership.png\n",
            "[%] File Downloaded !\n",
            "\n",
            "[%] Downloading Image #42 from https://www.motorcycle.com/blog/wp-content/uploads/2015/11/2016-Victory-Erbacher-Concept-38.jpg\n",
            "[%] File Downloaded !\n",
            "\n",
            "[%] Downloading Image #43 from https://silodrome.com/wp-content/uploads/2014/09/Kawasaki_W650_Motorcycle_4.jpg\n",
            "[%] File Downloaded !\n",
            "\n",
            "[%] Downloading Image #44 from http://silodrome.com/wp-content/uploads/2017/01/Montgomery-JAP-Motorcycle-10.jpg\n",
            "[%] File Downloaded !\n",
            "\n",
            "[%] Downloading Image #45 from https://gearpatrol.com/wp-content/uploads/2019/04/The-Complete-BMW-Motorcycle-Buying-Guide-gear-patrol-lead-full.jpg\n",
            "[%] File Downloaded !\n",
            "\n",
            "[%] Downloading Image #46 from https://s1.cdn.autoevolution.com/images/news/gallery/new-electric-motorcycle-manufacturer-rises-models-can-reach-186-mph_4.jpg\n",
            "[%] File Downloaded !\n",
            "\n",
            "[%] Downloading Image #47 from https://silodrome.com/wp-content/uploads/2017/08/ExoDyne-Electric-Motorcycle-5.jpg\n",
            "[%] File Downloaded !\n",
            "\n",
            "[%] Downloading Image #48 from http://motorcycle-central.com/wp-content/uploads/2015/02/Lotus-C-01.jpg\n",
            "[%] File Downloaded !\n",
            "\n",
            "[%] Downloading Image #49 from http://silodrome.com/wp-content/uploads/2014/09/Kawasaki_W650_Motorcycle_9.jpg\n",
            "[%] File Downloaded !\n",
            "\n",
            "[%] Downloading Image #50 from https://upload.wikimedia.org/wikipedia/commons/thumb/d/dd/Harley-Davdison_Road_Glide.jpg/1920px-Harley-Davdison_Road_Glide.jpg\n",
            "[%] File Downloaded !\n",
            "\n",
            "[%] Downloading Image #51 from https://www.motopinas.com/images/posts/post11611.jpg\n",
            "[%] File Downloaded !\n",
            "\n",
            "[%] Downloading Image #52 from http://moto.zombdrive.com/images1600_/dodge-motorcycle-11.jpg\n",
            "[%] File Downloaded !\n",
            "\n",
            "[%] Downloading Image #53 from http://silodrome.com/wp-content/uploads/2015/10/Harley-Davidson-750cc-XA-Military-Motorcycle-2.jpg\n",
            "[%] File Downloaded !\n",
            "\n",
            "[%] Downloading Image #54 from https://www.totalmotorcycle.com/wp-content/uploads/2018/10/2019-Kawasaki-Ninja-ZX-14R-ABS4.jpg\n",
            "[%] File Downloaded !\n",
            "\n",
            "[%] Downloading Image #55 from https://coolmaterial.com/wp-content/uploads/2019/07/Industrial-Moto-Project-Angel-Honda-Grom-Sidecar-Motorcycle.jpg\n",
            "[%] File Downloaded !\n",
            "\n",
            "[%] Downloading Image #56 from https://i.ytimg.com/vi/fFW0oWmWHaw/maxresdefault.jpg\n",
            "[%] File Downloaded !\n",
            "\n",
            "[%] Downloading Image #57 from https://www.motorcycle.com/blog/wp-content/uploads/2014/08/080914-mobo-best-standard-winner-2014-bmw-r-ninet.jpg\n",
            "[%] File Downloaded !\n",
            "\n",
            "[%] Downloading Image #58 from https://www.totalmotorcycle.com/wp-content/uploads/2018/08/2019-Harley-Davidson-Breakout2.jpg\n",
            "[%] File Downloaded !\n",
            "\n",
            "[%] Downloading Image #59 from http://www.thebetterlivingindex.com/wp-content/uploads/2014/11/Deus-TW200-motorcycle-c.jpg\n",
            "[%] File Downloaded !\n",
            "\n",
            "[%] Downloading Image #60 from https://www.shannons.com.au/library/images/auctions/U0B2F9S0Z9I4W1H2/1600x1066/1955-bmw-r253-250cc-motorcycle.jpg\n",
            "[%] File Downloaded !\n",
            "\n",
            "\n",
            "\n",
            "[!!]Indexing page: 1\n",
            "\n",
            "[%] Indexed 60 Images on Page 1.\n",
            "\n",
            "===============================================\n",
            "\n",
            "[%] Downloading Image #1 from http://1.bp.blogspot.com/-oLutMj1Yq7k/VXE-L7gr-DI/AAAAAAAAGHY/rjvt-n_xtjc/s1600/MH8.jpg\n",
            "[%] File Downloaded !\n",
            "\n",
            "[%] Downloading Image #2 from https://winair.ca/wp-content/uploads/2019/03/Leonardo-AW169-Air-Ambulance-Helicopter.jpg\n",
            "[%] File Downloaded !\n",
            "\n",
            "[%] Downloading Image #3 from https://savback.com/wp-content/uploads/InFlight.jpg\n",
            "[%] File Downloaded !\n",
            "\n",
            "[%] Downloading Image #4 from https://www.hoveringhelicopter.com/wp-content/uploads/2017/08/Eurocopter-Medevac-2.jpg\n",
            "[Error]Invalid image, not saving https://www.hoveringhelicopter.com/wp-content/uploads/2017/08/Eurocopter-Medevac-2.jpg\n",
            "\n",
            "[!] Issue getting: https://www.hoveringhelicopter.com/wp-content/uploads/2017/08/Eurocopter-Medevac-2.jpg\n",
            "[!] Error:: No active exception to reraise\n",
            "[%] Downloading Image #4 from https://australianaviation.com.au/wp-content/uploads/2019/10/AS365N3_VH-PVH_Victorian-Police-Airwing_Water-Winch-Training_Port-Phillip-Bay-VIC_09.12.09_Edward-P.-Chisholm_36_1170.jpg\n",
            "[%] File Downloaded !\n",
            "\n",
            "[%] Downloading Image #5 from https://doublehavn.com/wp-content/uploads/2018/11/Core-Sector-Helicopter-H160.jpg\n",
            "[%] File Downloaded !\n",
            "\n",
            "[%] Downloading Image #6 from https://static.bangkokpost.com/media/content/dcx/2020/03/17/3566620.jpg\n",
            "[%] File Downloaded !\n",
            "\n",
            "[%] Downloading Image #7 from https://i1.wp.com/africaneyereport.com/wp-content/uploads/2019/04/unnamed-7.jpg?fit=1200%2C744&amp;ssl=1\n",
            "[%] File Downloaded !\n",
            "\n",
            "[%] Downloading Image #8 from http://businessaviation.com/assets/galleries/770/mil171.jpg\n",
            "[%] File Downloaded !\n",
            "\n",
            "[%] Downloading Image #9 from https://i2-prod.dailypost.co.uk/news/north-wales-news/article15011917.ece/ALTERNATES/s1200/0_1-Apache-gunship-helicopter-makes-emergency-landing.jpg\n",
            "[%] File Downloaded !\n",
            "\n",
            "[%] Downloading Image #10 from https://www.eurocontrol.int/sites/default/files/styles/16_9_1920x1080/public/2019-12/helicopter18122019.jpg?h=1c9b88c9&amp;itok=I-MIaCY7\n",
            "[%] File Downloaded !\n",
            "\n",
            "[%] Downloading Image #11 from https://imgproc.airliners.net/photos/airliners/6/3/0/1577036.jpg?v=v40\n",
            "[%] File Downloaded !\n",
            "\n",
            "[%] Downloading Image #12 from https://www.edmontonconventioncentre.com/wp-content/uploads/2014/10/helicopter-scc.jpg\n",
            "[%] File Downloaded !\n",
            "\n",
            "[%] Downloading Image #13 from https://i.ytimg.com/vi/AIprqFUG__E/maxresdefault.jpg\n",
            "[%] File Downloaded !\n",
            "\n",
            "[%] Downloading Image #14 from https://www.kaman.com/sites/default/files/helicopter-express-k-max-header.jpg\n",
            "[%] File Downloaded !\n",
            "\n",
            "[%] Downloading Image #15 from https://milmachine.wpengine.com/wp-content/uploads/2017/04/Chinook-Helicopter-on-Carrier.jpg\n",
            "[%] File Downloaded !\n",
            "\n",
            "[%] Downloading Image #16 from https://jamaicaquesttours.com/wp-content/uploads/2015/01/helicopter-transfer-from-ocho-rios-hotels-to-kingston-airport...jpg\n",
            "[%] File Downloaded !\n",
            "\n",
            "[%] Downloading Image #17 from https://get.pxhere.com/photo/aircraft-vehicle-aviation-helicopter-chopper-rotorcraft-air-force-seaking-royal-navy-fleet-air-arm-atmosphere-of-earth-helicopter-rotor-military-helicopter-black-hawk-sikorsky-s-70-sikorsky-s-61-sikorsky-sh-3-sea-king-mil-mi-8-hal-dhruv-568082.jpg\n",
            "[%] File Downloaded !\n",
            "\n",
            "[%] Downloading Image #18 from https://divernet.com/wp-content/uploads/2018/09/Coastguard-helicopter.jpg\n",
            "[%] File Downloaded !\n",
            "\n",
            "[%] Downloading Image #19 from https://upload.wikimedia.org/wikipedia/commons/thumb/0/03/CH-47_Chinook_helicopter_flyby.jpg/1200px-CH-47_Chinook_helicopter_flyby.jpg\n",
            "[%] File Downloaded !\n",
            "\n",
            "[%] Downloading Image #20 from https://aviationtraining.co.nz/wp-content/uploads/2017/10/HelicopterTrialFlights.jpg\n",
            "[%] File Downloaded !\n",
            "\n",
            "[%] Downloading Image #21 from https://www.flyaag.com/wp-content/uploads/2017/06/luxury-fractional-helicopters_med.jpg\n",
            "[%] File Downloaded !\n",
            "\n",
            "[%] Downloading Image #22 from http://www.michaelmolloy.co.uk/aviation-photography/photographs/intro/large/helicopter.jpg\n",
            "[%] File Downloaded !\n",
            "\n",
            "[%] Downloading Image #23 from https://asianmilitaryreview.com/wp-content/uploads/Russian-Helicopter-Mi-17-1V.jpg\n",
            "[%] File Downloaded !\n",
            "\n",
            "[%] Downloading Image #24 from https://images.jpost.com/image/upload/f_auto,fl_lossy/t_JD_ArticleMainImageFaceDetect/415375\n",
            "[%] File Downloaded !\n",
            "\n",
            "[%] Downloading Image #25 from https://www.experiencedays.co.uk/images/helicopter-tour-in-portsmouth-big-1920x1080-resize.jpg\n",
            "[%] File Downloaded !\n",
            "\n",
            "[%] Downloading Image #26 from https://www.kmjnow.com/wp-content/uploads/sites/461/2016/05/HELICOPTER.jpg\n",
            "[!] Issue getting: https://www.kmjnow.com/wp-content/uploads/sites/461/2016/05/HELICOPTER.jpg\n",
            "[!] Error:: HTTP Error 403: Forbidden\n",
            "[%] Downloading Image #26 from https://www.defencetalk.com/wp-content/uploads/2015/09/royal-navy-wildcat-helicopter.jpg\n",
            "[%] File Downloaded !\n",
            "\n",
            "[%] Downloading Image #27 from https://cdn.planeandpilotmag.com/2020/01/military-helicopter.jpg\n",
            "[%] File Downloaded !\n",
            "\n",
            "[%] Downloading Image #28 from https://secure.i.telegraph.co.uk/multimedia/archive/02523/helicopter-summary_2523013k.jpg\n",
            "[%] File Downloaded !\n",
            "\n",
            "[%] Downloading Image #29 from https://annejosephson.files.wordpress.com/2014/10/helicopter.jpg\n",
            "[%] File Downloaded !\n",
            "\n",
            "[%] Downloading Image #30 from http://aviation-times.aero/wp-content/uploads/2014/02/bell-429.jpg\n",
            "[%] File Downloaded !\n",
            "\n",
            "[%] Downloading Image #31 from https://i.ytimg.com/vi/2ZsL3qxRSXA/maxresdefault.jpg\n",
            "[%] File Downloaded !\n",
            "\n",
            "[%] Downloading Image #32 from https://www.thelondonhelicopter.com/wp-content/uploads/2017/06/AdobeStock_119630341-min.jpeg\n",
            "[%] File Downloaded !\n",
            "\n",
            "[%] Downloading Image #33 from https://cdn.rotorandwing.com/wp-content/uploads/2018/12/high-speed-helicopter.jpg\n",
            "[!] Issue getting: https://cdn.rotorandwing.com/wp-content/uploads/2018/12/high-speed-helicopter.jpg\n",
            "[!] Error:: <urlopen error [Errno -2] Name or service not known>\n",
            "[%] Downloading Image #33 from https://ww1.prweb.com/prfiles/2009/08/04/1262404/AerocopterAK13Helicopter007A.jpg\n",
            "[%] File Downloaded !\n",
            "\n",
            "[%] Downloading Image #34 from https://cdn.britannica.com/s:700x500/00/148900-050-4BD56587/helicopter-flight.jpg\n",
            "[Error]Invalid image, not saving https://cdn.britannica.com/s:700x500/00/148900-050-4BD56587/helicopter-flight.jpg\n",
            "\n",
            "[!] Issue getting: https://cdn.britannica.com/s:700x500/00/148900-050-4BD56587/helicopter-flight.jpg\n",
            "[!] Error:: No active exception to reraise\n",
            "[%] Downloading Image #34 from https://traveltailorvip.com/images/helicopter/R1-30A.jpg\n",
            "[%] File Downloaded !\n",
            "\n",
            "[%] Downloading Image #35 from https://www.bondiclassifieds.com.au/items/1468990166_eurocopter-ec120.png\n",
            "[%] File Downloaded !\n",
            "\n",
            "[%] Downloading Image #36 from http://www.trbimg.com/img-4f8e05a3/turbine/bs-hs-helicopter-emergency-transport-20120417\n",
            "[%] File Downloaded !\n",
            "\n",
            "[%] Downloading Image #37 from http://safarihelicopter.com/wp-content/uploads/2017/08/IMG_4880-1024x768.jpg\n",
            "[%] File Downloaded !\n",
            "\n",
            "[%] Downloading Image #38 from https://www.unmannedsystemstechnology.com/wp-content/uploads/2019/04/Uavos-converted-unmanned-helicopter.jpg\n",
            "[%] File Downloaded !\n",
            "\n",
            "[%] Downloading Image #39 from http://www.thinkdefence.co.uk/wp-content/uploads/2014/09/Lynx-helicopter-with-MX15-turret-Image-Credit-Fighter-Control.jpg\n",
            "[%] File Downloaded !\n",
            "\n",
            "[%] Downloading Image #40 from https://www.experiencedays.co.uk/images/Helicopter-tour-wolverhampton-1920x1080-resize.jpg\n",
            "[%] File Downloaded !\n",
            "\n",
            "[%] Downloading Image #41 from https://assets.shephardmedia.com/live/default/media/cache/images/images/article/TNI-AD_Bell_412_-_small/4d6d5112a3b3f83f51101e67728bb9b4.JPG\n",
            "[%] File Downloaded !\n",
            "\n",
            "[%] Downloading Image #42 from https://investorsking.com/wp-content/uploads/2017/01/helicopter.jpg\n",
            "[%] File Downloaded !\n",
            "\n",
            "[%] Downloading Image #43 from http://blog.executivebiz.com/wp-content/uploads/2012/10/rescue-helicopter.jpg\n",
            "[%] File Downloaded !\n",
            "\n",
            "[%] Downloading Image #44 from https://www.flightsafetyaustralia.com/wp-content/uploads/2019/04/AW139-helicopter-refuelling_Original_21235_debranded.jpg\n",
            "[%] File Downloaded !\n",
            "\n",
            "[%] Downloading Image #45 from https://www.defencetalk.com/wp-content/uploads/2010/03/EC145-helicopter.jpg\n",
            "[%] File Downloaded !\n",
            "\n",
            "[%] Downloading Image #46 from http://en.mercopress.com/data/cache/noticias/30086/0x0/chop.jpg\n",
            "[%] File Downloaded !\n",
            "\n",
            "[%] Downloading Image #47 from http://www.helicopter-industry.com/wp-content/uploads/2018/07/helicopter-industry-news-5.jpg\n",
            "[%] File Downloaded !\n",
            "\n",
            "[%] Downloading Image #48 from https://www.nationalbronze.com/News/wp-content/uploads/2014/02/Apache-Helicopter.jpg\n",
            "[%] File Downloaded !\n",
            "\n",
            "[%] Downloading Image #49 from http://www.trbimg.com/img-54fa7695/turbine/la-me-lapd-helicopter-20150308\n",
            "[%] File Downloaded !\n",
            "\n",
            "[%] Downloading Image #50 from https://www.virginexperiencedays.co.uk/content/img/product/large/PHELCE__02.jpg\n",
            "[%] File Downloaded !\n",
            "\n",
            "[%] Downloading Image #51 from https://video.cgtn.com/news/336b444e7849444d3455444e3551544f33417a4e31457a6333566d54/video/271c83e01cf04f6fbdd6b0d26dc231d1/271c83e01cf04f6fbdd6b0d26dc231d1.jpg\n",
            "[%] File Downloaded !\n",
            "\n",
            "[%] Downloading Image #52 from https://www.experiencedays.co.uk/images/helicopter-ride-wolverhampton-1920x1080-resize.JPG\n",
            "[%] File Downloaded !\n",
            "\n",
            "[%] Downloading Image #53 from http://www.aim.org/wp-content/uploads/2013/06/mi-17-helicopter.jpg\n",
            "[%] File Downloaded !\n",
            "\n",
            "[%] Downloading Image #54 from https://www.australianhelicopterpilotschool.com.au/content/heli/upload/public/50ff70a4a80768.06897101.jpg\n",
            "[%] File Downloaded !\n",
            "\n",
            "[%] Downloading Image #55 from https://defpost.com/wp-content/uploads/2018/06/Indian-Coast-Guard-ALH-Dhruv.jpg\n",
            "[%] File Downloaded !\n",
            "\n",
            "[%] Downloading Image #56 from https://silodrome.com/wp-content/uploads/2020/04/Safari-400-Kit-Helicopter-1600x1200.jpg\n",
            "[%] File Downloaded !\n",
            "\n",
            "\n",
            "\n",
            "[!!]Indexing page: 2\n",
            "\n",
            "[%] Indexed 35 Images on Page 2.\n",
            "\n",
            "===============================================\n",
            "\n",
            "[%] Downloading Image #57 from https://upload.wikimedia.org/wikipedia/commons/thumb/7/78/LAPD_Bell_206_Jetranger.jpg/1200px-LAPD_Bell_206_Jetranger.jpg\n",
            "[%] File Downloaded !\n",
            "\n",
            "[%] Downloading Image #58 from https://upload.wikimedia.org/wikipedia/commons/thumb/3/3a/Mh60S_Training_Flight_1.jpeg/1200px-Mh60S_Training_Flight_1.jpeg\n",
            "[%] File Downloaded !\n",
            "\n",
            "[%] Downloading Image #59 from https://upload.wikimedia.org/wikipedia/commons/thumb/5/59/Md_helicopters_md-500e_g-sscl_arp.jpg/1200px-Md_helicopters_md-500e_g-sscl_arp.jpg\n",
            "[%] File Downloaded !\n",
            "\n",
            "[%] Downloading Image #60 from https://upload.wikimedia.org/wikipedia/commons/thumb/0/03/CH-47_Chinook_helicopter_flyby.jpg/1200px-CH-47_Chinook_helicopter_flyby.jpg\n",
            "[%] File Downloaded !\n",
            "\n",
            "\n",
            "\n",
            "[%] Done. Downloaded 60 images.\n",
            "\n",
            "===============================================\n",
            "\n"
          ],
          "name": "stdout"
        }
      ]
    },
    {
      "cell_type": "markdown",
      "metadata": {
        "id": "eWCf-ANkGEaj"
      },
      "source": [
        "PREPROCESSING"
      ]
    },
    {
      "cell_type": "markdown",
      "metadata": {
        "id": "uQy1I5MIzLqT"
      },
      "source": [
        "1. Resizing the image data\r\n",
        "2. Flattening the image data"
      ]
    },
    {
      "cell_type": "code",
      "metadata": {
        "id": "i7Jgp_0Qulv8"
      },
      "source": [
        "# converting matrix to vector - flatten()\r\n",
        "# since images can't be processed directly as they are in form of matrxi(3D), flatten data(2D) is passed."
      ],
      "execution_count": 6,
      "outputs": []
    },
    {
      "cell_type": "code",
      "metadata": {
        "id": "JhBoNlsbGHNs"
      },
      "source": [
        "import os\r\n",
        "import matplotlib.pyplot as plt\r\n",
        "import numpy as np\r\n",
        "from skimage.io import imread\r\n",
        "from skimage.transform import resize\r\n",
        "\r\n",
        "target = []\r\n",
        "images = []\r\n",
        "flat_data = []\r\n",
        "datadir = '/content/images'\r\n",
        "categories = ['car','helicopter','motorcycle']\r\n",
        "for category in categories:\r\n",
        "  class_num = categories.index(category) # label encoding the values by assigning them their index value\r\n",
        "  path = os.path.join(datadir,category) \r\n",
        "  for img in os.listdir(path):\r\n",
        "    img_array = imread(os.path.join(path,img))\r\n",
        "    #print(img_array)\r\n",
        "    #print(img_array.shape)\r\n",
        "    img_resize = resize(img_array,(150,150,3)) # resizing # skimage normalizes the values from 0 to 1\r\n",
        "    flat_data.append(img_resize.flatten()) # flattening \r\n",
        "    images.append(img_resize)\r\n",
        "    target.append(class_num)\r\n",
        "flat_data = np.array(flat_data)\r\n",
        "target = np.array(target)\r\n",
        "images = np.array(images)\r\n",
        "\r\n",
        " "
      ],
      "execution_count": 9,
      "outputs": []
    },
    {
      "cell_type": "code",
      "metadata": {
        "colab": {
          "base_uri": "https://localhost:8080/"
        },
        "id": "O0R-Kq9P24fk",
        "outputId": "f9828fd0-7a93-4030-f837-e72134744fe5"
      },
      "source": [
        "flat_data"
      ],
      "execution_count": 10,
      "outputs": [
        {
          "output_type": "execute_result",
          "data": {
            "text/plain": [
              "array([[0.15281046, 0.16849673, 0.20379085, ..., 0.40771242, 0.43124183,\n",
              "        0.42339869],\n",
              "       [0.86993464, 0.86993464, 0.86993464, ..., 0.82269281, 0.81484967,\n",
              "        0.81877124],\n",
              "       [0.        , 0.        , 0.        , ..., 0.99607843, 0.99607843,\n",
              "        0.99607843],\n",
              "       ...,\n",
              "       [1.        , 1.        , 1.        , ..., 1.        , 1.        ,\n",
              "        1.        ],\n",
              "       [0.32262745, 0.30301961, 0.2912549 , ..., 0.57500654, 0.57500654,\n",
              "        0.57500654],\n",
              "       [1.        , 1.        , 1.        , ..., 1.        , 1.        ,\n",
              "        1.        ]])"
            ]
          },
          "metadata": {
            "tags": []
          },
          "execution_count": 10
        }
      ]
    },
    {
      "cell_type": "code",
      "metadata": {
        "colab": {
          "base_uri": "https://localhost:8080/"
        },
        "id": "LXWt8e583Goq",
        "outputId": "5370d7fb-ccf6-4089-80b1-66caab72932a"
      },
      "source": [
        "len(flat_data[0])"
      ],
      "execution_count": 11,
      "outputs": [
        {
          "output_type": "execute_result",
          "data": {
            "text/plain": [
              "67500"
            ]
          },
          "metadata": {
            "tags": []
          },
          "execution_count": 11
        }
      ]
    },
    {
      "cell_type": "code",
      "metadata": {
        "colab": {
          "base_uri": "https://localhost:8080/"
        },
        "id": "Ys5dhoSN3STc",
        "outputId": "d2394ee2-385f-4514-ec2e-440d24b75e4b"
      },
      "source": [
        "target"
      ],
      "execution_count": 12,
      "outputs": [
        {
          "output_type": "execute_result",
          "data": {
            "text/plain": [
              "array([0, 0, 0, 0, 0, 0, 0, 0, 0, 0, 0, 0, 0, 0, 0, 0, 0, 0, 0, 0, 0, 0,\n",
              "       0, 0, 0, 0, 0, 0, 0, 0, 0, 0, 0, 0, 0, 0, 0, 0, 0, 0, 0, 0, 0, 0,\n",
              "       0, 0, 0, 0, 0, 0, 0, 0, 0, 0, 0, 0, 0, 0, 0, 0, 1, 1, 1, 1, 1, 1,\n",
              "       1, 1, 1, 1, 1, 1, 1, 1, 1, 1, 1, 1, 1, 1, 1, 1, 1, 1, 1, 1, 1, 1,\n",
              "       1, 1, 1, 1, 1, 1, 1, 1, 1, 1, 1, 1, 1, 1, 1, 1, 1, 1, 1, 1, 1, 1,\n",
              "       1, 1, 1, 1, 1, 1, 1, 1, 1, 1, 2, 2, 2, 2, 2, 2, 2, 2, 2, 2, 2, 2,\n",
              "       2, 2, 2, 2, 2, 2, 2, 2, 2, 2, 2, 2, 2, 2, 2, 2, 2, 2, 2, 2, 2, 2,\n",
              "       2, 2, 2, 2, 2, 2, 2, 2, 2, 2, 2, 2, 2, 2, 2, 2, 2, 2, 2, 2, 2, 2,\n",
              "       2, 2, 2, 2])"
            ]
          },
          "metadata": {
            "tags": []
          },
          "execution_count": 12
        }
      ]
    },
    {
      "cell_type": "code",
      "metadata": {
        "colab": {
          "base_uri": "https://localhost:8080/",
          "height": 283
        },
        "id": "-GR6ay9M3kdw",
        "outputId": "b80d2e0a-6ef8-447e-ee05-e0e2615bc3ea"
      },
      "source": [
        "unique,count = np.unique(target,return_counts = True) \r\n",
        "plt.bar(categories,count)\r\n",
        "plt.show"
      ],
      "execution_count": 13,
      "outputs": [
        {
          "output_type": "execute_result",
          "data": {
            "text/plain": [
              "<function matplotlib.pyplot.show>"
            ]
          },
          "metadata": {
            "tags": []
          },
          "execution_count": 13
        },
        {
          "output_type": "display_data",
          "data": {
            "image/png": "[encoded data removed]",
            "text/plain": [
              "<Figure size 432x288 with 1 Axes>"
            ]
          },
          "metadata": {
            "tags": [],
            "needs_background": "light"
          }
        }
      ]
    },
    {
      "cell_type": "markdown",
      "metadata": {
        "id": "D6wpA9O-4ImZ"
      },
      "source": [
        "SPLITTING DATA INTO TRAINING AND TESTING DATA"
      ]
    },
    {
      "cell_type": "code",
      "metadata": {
        "id": "vRDVJL-54Pzm"
      },
      "source": [
        "from sklearn.model_selection import train_test_split\r\n",
        "x_train,x_test,y_train,y_test = train_test_split(flat_data,target,test_size = 0.3,random_state = 120)\r\n"
      ],
      "execution_count": 14,
      "outputs": []
    },
    {
      "cell_type": "code",
      "metadata": {
        "colab": {
          "base_uri": "https://localhost:8080/"
        },
        "id": "-r-3VhqY5DI8",
        "outputId": "ac8c3df9-7e40-4d4d-cdc8-a2261efcdf06"
      },
      "source": [
        "from sklearn.model_selection import GridSearchCV\r\n",
        "from sklearn import svm\r\n",
        "para_grid = [\r\n",
        "             {'C':[1,10,100,1000],'kernel':['linear']},\r\n",
        "             {'C':[1,10,100,1000],'gamma':[0.001,0.0001],'kernel':['rbf']},\r\n",
        "]\r\n",
        "# using GridSearchCV\r\n",
        "svc = svm.SVC(probability=True)\r\n",
        "clf = GridSearchCV(svc,para_grid)\r\n",
        "clf.fit(x_train,y_train)\r\n",
        "clf.best_params_\r\n",
        "\r\n"
      ],
      "execution_count": 16,
      "outputs": [
        {
          "output_type": "execute_result",
          "data": {
            "text/plain": [
              "{'C': 1, 'kernel': 'linear'}"
            ]
          },
          "metadata": {
            "tags": []
          },
          "execution_count": 16
        }
      ]
    },
    {
      "cell_type": "code",
      "metadata": {
        "colab": {
          "base_uri": "https://localhost:8080/"
        },
        "id": "sCbsNiJH8NVZ",
        "outputId": "e3d92768-edc8-491c-a91e-f9f023cc6450"
      },
      "source": [
        "y_pred = clf.predict(x_test)\r\n",
        "y_pred"
      ],
      "execution_count": 17,
      "outputs": [
        {
          "output_type": "execute_result",
          "data": {
            "text/plain": [
              "array([0, 0, 2, 0, 0, 0, 1, 2, 1, 0, 1, 2, 0, 1, 2, 0, 2, 0, 1, 0, 1, 1,\n",
              "       1, 0, 0, 2, 0, 0, 0, 1, 2, 1, 1, 2, 0, 0, 1, 0, 2, 1, 2, 2, 1, 0,\n",
              "       0, 0, 0, 2, 0, 0, 2, 1, 0, 1])"
            ]
          },
          "metadata": {
            "tags": []
          },
          "execution_count": 17
        }
      ]
    },
    {
      "cell_type": "code",
      "metadata": {
        "colab": {
          "base_uri": "https://localhost:8080/"
        },
        "id": "MLa599-88Yl0",
        "outputId": "3a8a9b66-d0fa-4cc1-fe89-ec295f2a7040"
      },
      "source": [
        "y_test"
      ],
      "execution_count": 18,
      "outputs": [
        {
          "output_type": "execute_result",
          "data": {
            "text/plain": [
              "array([2, 0, 2, 1, 2, 1, 1, 0, 1, 0, 1, 2, 0, 1, 2, 0, 2, 0, 1, 0, 1, 1,\n",
              "       1, 2, 2, 2, 1, 0, 0, 1, 2, 1, 1, 2, 0, 0, 1, 0, 2, 1, 2, 2, 1, 1,\n",
              "       1, 0, 0, 0, 0, 0, 2, 1, 2, 1])"
            ]
          },
          "metadata": {
            "tags": []
          },
          "execution_count": 18
        }
      ]
    },
    {
      "cell_type": "code",
      "metadata": {
        "colab": {
          "base_uri": "https://localhost:8080/"
        },
        "id": "XCVzKh_Q8b0f",
        "outputId": "788ec301-8def-4ff0-9f33-3d8f496e2e37"
      },
      "source": [
        "from sklearn.metrics import accuracy_score,confusion_matrix,classification_report\r\n",
        "accuracy_score(y_pred, y_test)\r\n"
      ],
      "execution_count": 19,
      "outputs": [
        {
          "output_type": "execute_result",
          "data": {
            "text/plain": [
              "0.7777777777777778"
            ]
          },
          "metadata": {
            "tags": []
          },
          "execution_count": 19
        }
      ]
    },
    {
      "cell_type": "code",
      "metadata": {
        "colab": {
          "base_uri": "https://localhost:8080/"
        },
        "id": "zgft9ss-wEPI",
        "outputId": "1e13915e-b907-470d-a794-b3e00ead6428"
      },
      "source": [
        "confusion_matrix(y_pred,y_test)"
      ],
      "execution_count": 20,
      "outputs": [
        {
          "output_type": "execute_result",
          "data": {
            "text/plain": [
              "array([[15,  5,  5],\n",
              "       [ 0, 16,  0],\n",
              "       [ 2,  0, 11]])"
            ]
          },
          "metadata": {
            "tags": []
          },
          "execution_count": 20
        }
      ]
    },
    {
      "cell_type": "code",
      "metadata": {
        "colab": {
          "base_uri": "https://localhost:8080/"
        },
        "id": "ixTCqD2PAKXw",
        "outputId": "66e722c5-6c9d-4c86-de5c-365f56c0aea5"
      },
      "source": [
        "print(classification_report(y_pred,y_test))"
      ],
      "execution_count": 21,
      "outputs": [
        {
          "output_type": "stream",
          "text": [
            "              precision    recall  f1-score   support\n",
            "\n",
            "           0       0.88      0.60      0.71        25\n",
            "           1       0.76      1.00      0.86        16\n",
            "           2       0.69      0.85      0.76        13\n",
            "\n",
            "    accuracy                           0.78        54\n",
            "   macro avg       0.78      0.82      0.78        54\n",
            "weighted avg       0.80      0.78      0.77        54\n",
            "\n"
          ],
          "name": "stdout"
        }
      ]
    },
    {
      "cell_type": "code",
      "metadata": {
        "id": "2OSustm2BsAb"
      },
      "source": [
        "# saving the model using pickle library\r\n",
        "import pickle\r\n",
        "pickle.dump(clf,open('image_model.p','wb')) \r\n"
      ],
      "execution_count": 22,
      "outputs": []
    },
    {
      "cell_type": "code",
      "metadata": {
        "colab": {
          "base_uri": "https://localhost:8080/"
        },
        "id": "qTeq5q2DCK0O",
        "outputId": "c64b9354-b757-4817-b3b4-a7f9800909da"
      },
      "source": [
        "# now we can easily load our model\r\n",
        "model = pickle.load(open('image_model.p','rb'))  \r\n",
        "model"
      ],
      "execution_count": 23,
      "outputs": [
        {
          "output_type": "execute_result",
          "data": {
            "text/plain": [
              "GridSearchCV(cv=None, error_score=nan,\n",
              "             estimator=SVC(C=1.0, break_ties=False, cache_size=200,\n",
              "                           class_weight=None, coef0=0.0,\n",
              "                           decision_function_shape='ovr', degree=3,\n",
              "                           gamma='scale', kernel='rbf', max_iter=-1,\n",
              "                           probability=True, random_state=None, shrinking=True,\n",
              "                           tol=0.001, verbose=False),\n",
              "             iid='deprecated', n_jobs=None,\n",
              "             param_grid=[{'C': [1, 10, 100, 1000], 'kernel': ['linear']},\n",
              "                         {'C': [1, 10, 100, 1000], 'gamma': [0.001, 0.0001],\n",
              "                          'kernel': ['rbf']}],\n",
              "             pre_dispatch='2*n_jobs', refit=True, return_train_score=False,\n",
              "             scoring=None, verbose=0)"
            ]
          },
          "metadata": {
            "tags": []
          },
          "execution_count": 23
        }
      ]
    },
    {
      "cell_type": "code",
      "metadata": {
        "colab": {
          "base_uri": "https://localhost:8080/",
          "height": 324
        },
        "id": "BnRNntA8ClGy",
        "outputId": "89de2d36-7121-494a-b1af-6e1776089f6b"
      },
      "source": [
        "flat_data = []\r\n",
        "input_image = input('enter the url for the image') \r\n",
        "img = imread(input_image)\r\n",
        "img_resize = resize(img,(150,150,3))\r\n",
        "flat_data.append(img_resize.flatten()) \r\n",
        "flat_data = np.array(flat_data)\r\n",
        "print(img.shape)\r\n",
        "plt.imshow(img_resize)\r\n",
        "y_out = model.predict(flat_data)\r\n",
        "y_out = categories[y_out[0]]\r\n",
        "print(f'predicted output: {y_out}')\r\n",
        "\r\n"
      ],
      "execution_count": 24,
      "outputs": [
        {
          "output_type": "stream",
          "text": [
            "enter the url for the imagehttps://i.ytimg.com/vi/q11eMGe9QYM/maxresdefault.jpg\n",
            "(720, 1280, 3)\n",
            "predicted output: helicopter\n"
          ],
          "name": "stdout"
        },
        {
          "output_type": "display_data",
          "data": {
            "image/png": "[encoded data removed]",
            "text/plain": [
              "<Figure size 432x288 with 1 Axes>"
            ]
          },
          "metadata": {
            "tags": [],
            "needs_background": "light"
          }
        }
      ]
    },
    {
      "cell_type": "markdown",
      "metadata": {
        "id": "DOc-0jg4S1bS"
      },
      "source": [
        "DEPLOYEMENT\r\n"
      ]
    },
    {
      "cell_type": "code",
      "metadata": {
        "colab": {
          "base_uri": "https://localhost:8080/",
          "height": 1000
        },
        "id": "KRmghg_xShYM",
        "outputId": "1d53c5f7-6f56-42cc-f92d-c3b9cb6c805b"
      },
      "source": [
        "!pip install streamlit\r\n"
      ],
      "execution_count": 25,
      "outputs": [
        {
          "output_type": "stream",
          "text": [
            "Collecting streamlit\n",
            "\u001b[?25l  Downloading https://files.pythonhosted.org/packages/a4/6c/c03f12bbbd8367152897c3b3269f87b717b3e7b834b44d15aae345727375/streamlit-0.77.0-py2.py3-none-any.whl (7.5MB)\n",
            "\u001b[K     |████████████████████████████████| 7.5MB 7.7MB/s \n",
            "\u001b[?25hRequirement already satisfied: tornado>=5.0 in /usr/local/lib/python3.7/dist-packages (from streamlit) (5.1.1)\n",
            "Requirement already satisfied: protobuf!=3.11,>=3.6.0 in /usr/local/lib/python3.7/dist-packages (from streamlit) (3.12.4)\n",
            "Collecting blinker\n",
            "\u001b[?25l  Downloading https://files.pythonhosted.org/packages/1b/51/e2a9f3b757eb802f61dc1f2b09c8c99f6eb01cf06416c0671253536517b6/blinker-1.4.tar.gz (111kB)\n",
            "\u001b[K     |████████████████████████████████| 112kB 43.5MB/s \n",
            "\u001b[?25hRequirement already satisfied: altair>=3.2.0 in /usr/local/lib/python3.7/dist-packages (from streamlit) (4.1.0)\n",
            "Requirement already satisfied: toml in /usr/local/lib/python3.7/dist-packages (from streamlit) (0.10.2)\n",
            "Requirement already satisfied: pillow>=6.2.0 in /usr/local/lib/python3.7/dist-packages (from streamlit) (7.0.0)\n",
            "Collecting pydeck>=0.1.dev5\n",
            "\u001b[?25l  Downloading https://files.pythonhosted.org/packages/1c/3f/8f04ae0c22d82ec7bec7fcc03270a142f637e362bbd285f7daeeda24fbef/pydeck-0.6.1-py2.py3-none-any.whl (4.6MB)\n",
            "\u001b[K     |████████████████████████████████| 4.6MB 37.2MB/s \n",
            "\u001b[?25hCollecting base58\n",
            "  Downloading https://files.pythonhosted.org/packages/b8/a1/d9f565e9910c09fd325dc638765e8843a19fa696275c16cc08cf3b0a3c25/base58-2.1.0-py3-none-any.whl\n",
            "Collecting watchdog; platform_system != \"Darwin\"\n",
            "\u001b[?25l  Downloading https://files.pythonhosted.org/packages/c6/ba/a36ca5b4e75649a002f06531862467b3eb5c768caa23d6d88b921fe238d8/watchdog-2.0.2-py3-none-manylinux2014_x86_64.whl (74kB)\n",
            "\u001b[K     |████████████████████████████████| 81kB 8.3MB/s \n",
            "\u001b[?25hRequirement already satisfied: click>=7.0 in /usr/local/lib/python3.7/dist-packages (from streamlit) (7.1.2)\n",
            "Requirement already satisfied: requests in /usr/local/lib/python3.7/dist-packages (from streamlit) (2.23.0)\n",
            "Requirement already satisfied: packaging in /usr/local/lib/python3.7/dist-packages (from streamlit) (20.9)\n",
            "Collecting validators\n",
            "  Downloading https://files.pythonhosted.org/packages/db/2f/7fed3ee94ad665ad2c1de87f858f10a7785251ff75b4fd47987888d07ef1/validators-0.18.2-py3-none-any.whl\n",
            "Requirement already satisfied: pyarrow; python_version < \"3.9\" in /usr/local/lib/python3.7/dist-packages (from streamlit) (3.0.0)\n",
            "Collecting gitpython\n",
            "\u001b[?25l  Downloading https://files.pythonhosted.org/packages/fb/67/47a04d8a9d7f94645676fe683f1ee3fe9be01fe407686c180768a92abaac/GitPython-3.1.13-py3-none-any.whl (159kB)\n",
            "\u001b[K     |████████████████████████████████| 163kB 42.3MB/s \n",
            "\u001b[?25hRequirement already satisfied: numpy in /usr/local/lib/python3.7/dist-packages (from streamlit) (1.19.5)\n",
            "Requirement already satisfied: cachetools>=4.0 in /usr/local/lib/python3.7/dist-packages (from streamlit) (4.2.1)\n",
            "Requirement already satisfied: pandas>=0.21.0 in /usr/local/lib/python3.7/dist-packages (from streamlit) (1.1.5)\n",
            "Requirement already satisfied: tzlocal in /usr/local/lib/python3.7/dist-packages (from streamlit) (1.5.1)\n",
            "Requirement already satisfied: python-dateutil in /usr/local/lib/python3.7/dist-packages (from streamlit) (2.8.1)\n",
            "Requirement already satisfied: astor in /usr/local/lib/python3.7/dist-packages (from streamlit) (0.8.1)\n",
            "Requirement already satisfied: setuptools in /usr/local/lib/python3.7/dist-packages (from protobuf!=3.11,>=3.6.0->streamlit) (53.0.0)\n",
            "Requirement already satisfied: six>=1.9 in /usr/local/lib/python3.7/dist-packages (from protobuf!=3.11,>=3.6.0->streamlit) (1.15.0)\n",
            "Requirement already satisfied: toolz in /usr/local/lib/python3.7/dist-packages (from altair>=3.2.0->streamlit) (0.11.1)\n",
            "Requirement already satisfied: jsonschema in /usr/local/lib/python3.7/dist-packages (from altair>=3.2.0->streamlit) (2.6.0)\n",
            "Requirement already satisfied: jinja2 in /usr/local/lib/python3.7/dist-packages (from altair>=3.2.0->streamlit) (2.11.3)\n",
            "Requirement already satisfied: entrypoints in /usr/local/lib/python3.7/dist-packages (from altair>=3.2.0->streamlit) (0.3)\n",
            "Collecting ipykernel>=5.1.2; python_version >= \"3.4\"\n",
            "\u001b[?25l  Downloading https://files.pythonhosted.org/packages/56/95/3a670c8b2c2370bd8631c313f42e60983b3113ffec4035940592252bd6d5/ipykernel-5.5.0-py3-none-any.whl (120kB)\n",
            "\u001b[K     |████████████████████████████████| 122kB 43.5MB/s \n",
            "\u001b[?25hRequirement already satisfied: ipywidgets>=7.0.0 in /usr/local/lib/python3.7/dist-packages (from pydeck>=0.1.dev5->streamlit) (7.6.3)\n",
            "Requirement already satisfied: traitlets>=4.3.2 in /usr/local/lib/python3.7/dist-packages (from pydeck>=0.1.dev5->streamlit) (5.0.5)\n",
            "Requirement already satisfied: chardet<4,>=3.0.2 in /usr/local/lib/python3.7/dist-packages (from requests->streamlit) (3.0.4)\n",
            "Requirement already satisfied: urllib3!=1.25.0,!=1.25.1,<1.26,>=1.21.1 in /usr/local/lib/python3.7/dist-packages (from requests->streamlit) (1.24.3)\n",
            "Requirement already satisfied: certifi>=2017.4.17 in /usr/local/lib/python3.7/dist-packages (from requests->streamlit) (2020.12.5)\n",
            "Requirement already satisfied: idna<3,>=2.5 in /usr/local/lib/python3.7/dist-packages (from requests->streamlit) (2.10)\n",
            "Requirement already satisfied: pyparsing>=2.0.2 in /usr/local/lib/python3.7/dist-packages (from packaging->streamlit) (2.4.7)\n",
            "Requirement already satisfied: decorator>=3.4.0 in /usr/local/lib/python3.7/dist-packages (from validators->streamlit) (4.4.2)\n",
            "Collecting gitdb<5,>=4.0.1\n",
            "\u001b[?25l  Downloading https://files.pythonhosted.org/packages/48/11/d1800bca0a3bae820b84b7d813ad1eff15a48a64caea9c823fc8c1b119e8/gitdb-4.0.5-py3-none-any.whl (63kB)\n",
            "\u001b[K     |████████████████████████████████| 71kB 7.5MB/s \n",
            "\u001b[?25hRequirement already satisfied: pytz>=2017.2 in /usr/local/lib/python3.7/dist-packages (from pandas>=0.21.0->streamlit) (2018.9)\n",
            "Requirement already satisfied: MarkupSafe>=0.23 in /usr/local/lib/python3.7/dist-packages (from jinja2->altair>=3.2.0->streamlit) (1.1.1)\n",
            "Requirement already satisfied: ipython>=5.0.0 in /usr/local/lib/python3.7/dist-packages (from ipykernel>=5.1.2; python_version >= \"3.4\"->pydeck>=0.1.dev5->streamlit) (5.5.0)\n",
            "Requirement already satisfied: jupyter-client in /usr/local/lib/python3.7/dist-packages (from ipykernel>=5.1.2; python_version >= \"3.4\"->pydeck>=0.1.dev5->streamlit) (5.3.5)\n",
            "Requirement already satisfied: widgetsnbextension~=3.5.0 in /usr/local/lib/python3.7/dist-packages (from ipywidgets>=7.0.0->pydeck>=0.1.dev5->streamlit) (3.5.1)\n",
            "Requirement already satisfied: nbformat>=4.2.0 in /usr/local/lib/python3.7/dist-packages (from ipywidgets>=7.0.0->pydeck>=0.1.dev5->streamlit) (5.1.2)\n",
            "Requirement already satisfied: jupyterlab-widgets>=1.0.0; python_version >= \"3.6\" in /usr/local/lib/python3.7/dist-packages (from ipywidgets>=7.0.0->pydeck>=0.1.dev5->streamlit) (1.0.0)\n",
            "Requirement already satisfied: ipython-genutils in /usr/local/lib/python3.7/dist-packages (from traitlets>=4.3.2->pydeck>=0.1.dev5->streamlit) (0.2.0)\n",
            "Collecting smmap<4,>=3.0.1\n",
            "  Downloading https://files.pythonhosted.org/packages/d5/1e/6130925131f639b2acde0f7f18b73e33ce082ff2d90783c436b52040af5a/smmap-3.0.5-py2.py3-none-any.whl\n",
            "Requirement already satisfied: simplegeneric>0.8 in /usr/local/lib/python3.7/dist-packages (from ipython>=5.0.0->ipykernel>=5.1.2; python_version >= \"3.4\"->pydeck>=0.1.dev5->streamlit) (0.8.1)\n",
            "Requirement already satisfied: pexpect; sys_platform != \"win32\" in /usr/local/lib/python3.7/dist-packages (from ipython>=5.0.0->ipykernel>=5.1.2; python_version >= \"3.4\"->pydeck>=0.1.dev5->streamlit) (4.8.0)\n",
            "Requirement already satisfied: prompt-toolkit<2.0.0,>=1.0.4 in /usr/local/lib/python3.7/dist-packages (from ipython>=5.0.0->ipykernel>=5.1.2; python_version >= \"3.4\"->pydeck>=0.1.dev5->streamlit) (1.0.18)\n",
            "Requirement already satisfied: pygments in /usr/local/lib/python3.7/dist-packages (from ipython>=5.0.0->ipykernel>=5.1.2; python_version >= \"3.4\"->pydeck>=0.1.dev5->streamlit) (2.6.1)\n",
            "Requirement already satisfied: pickleshare in /usr/local/lib/python3.7/dist-packages (from ipython>=5.0.0->ipykernel>=5.1.2; python_version >= \"3.4\"->pydeck>=0.1.dev5->streamlit) (0.7.5)\n",
            "Requirement already satisfied: pyzmq>=13 in /usr/local/lib/python3.7/dist-packages (from jupyter-client->ipykernel>=5.1.2; python_version >= \"3.4\"->pydeck>=0.1.dev5->streamlit) (22.0.3)\n",
            "Requirement already satisfied: jupyter-core>=4.6.0 in /usr/local/lib/python3.7/dist-packages (from jupyter-client->ipykernel>=5.1.2; python_version >= \"3.4\"->pydeck>=0.1.dev5->streamlit) (4.7.1)\n",
            "Requirement already satisfied: notebook>=4.4.1 in /usr/local/lib/python3.7/dist-packages (from widgetsnbextension~=3.5.0->ipywidgets>=7.0.0->pydeck>=0.1.dev5->streamlit) (5.3.1)\n",
            "Requirement already satisfied: ptyprocess>=0.5 in /usr/local/lib/python3.7/dist-packages (from pexpect; sys_platform != \"win32\"->ipython>=5.0.0->ipykernel>=5.1.2; python_version >= \"3.4\"->pydeck>=0.1.dev5->streamlit) (0.7.0)\n",
            "Requirement already satisfied: wcwidth in /usr/local/lib/python3.7/dist-packages (from prompt-toolkit<2.0.0,>=1.0.4->ipython>=5.0.0->ipykernel>=5.1.2; python_version >= \"3.4\"->pydeck>=0.1.dev5->streamlit) (0.2.5)\n",
            "Requirement already satisfied: terminado>=0.8.1 in /usr/local/lib/python3.7/dist-packages (from notebook>=4.4.1->widgetsnbextension~=3.5.0->ipywidgets>=7.0.0->pydeck>=0.1.dev5->streamlit) (0.9.2)\n",
            "Requirement already satisfied: nbconvert in /usr/local/lib/python3.7/dist-packages (from notebook>=4.4.1->widgetsnbextension~=3.5.0->ipywidgets>=7.0.0->pydeck>=0.1.dev5->streamlit) (5.6.1)\n",
            "Requirement already satisfied: Send2Trash in /usr/local/lib/python3.7/dist-packages (from notebook>=4.4.1->widgetsnbextension~=3.5.0->ipywidgets>=7.0.0->pydeck>=0.1.dev5->streamlit) (1.5.0)\n",
            "Requirement already satisfied: defusedxml in /usr/local/lib/python3.7/dist-packages (from nbconvert->notebook>=4.4.1->widgetsnbextension~=3.5.0->ipywidgets>=7.0.0->pydeck>=0.1.dev5->streamlit) (0.6.0)\n",
            "Requirement already satisfied: bleach in /usr/local/lib/python3.7/dist-packages (from nbconvert->notebook>=4.4.1->widgetsnbextension~=3.5.0->ipywidgets>=7.0.0->pydeck>=0.1.dev5->streamlit) (3.3.0)\n",
            "Requirement already satisfied: pandocfilters>=1.4.1 in /usr/local/lib/python3.7/dist-packages (from nbconvert->notebook>=4.4.1->widgetsnbextension~=3.5.0->ipywidgets>=7.0.0->pydeck>=0.1.dev5->streamlit) (1.4.3)\n",
            "Requirement already satisfied: testpath in /usr/local/lib/python3.7/dist-packages (from nbconvert->notebook>=4.4.1->widgetsnbextension~=3.5.0->ipywidgets>=7.0.0->pydeck>=0.1.dev5->streamlit) (0.4.4)\n",
            "Requirement already satisfied: mistune<2,>=0.8.1 in /usr/local/lib/python3.7/dist-packages (from nbconvert->notebook>=4.4.1->widgetsnbextension~=3.5.0->ipywidgets>=7.0.0->pydeck>=0.1.dev5->streamlit) (0.8.4)\n",
            "Requirement already satisfied: webencodings in /usr/local/lib/python3.7/dist-packages (from bleach->nbconvert->notebook>=4.4.1->widgetsnbextension~=3.5.0->ipywidgets>=7.0.0->pydeck>=0.1.dev5->streamlit) (0.5.1)\n",
            "Building wheels for collected packages: blinker\n",
            "  Building wheel for blinker (setup.py) ... \u001b[?25l\u001b[?25hdone\n",
            "  Created wheel for blinker: filename=blinker-1.4-cp37-none-any.whl size=13448 sha256=1d4c420858e2b2daa2a2dbff30f94a6604d6f14f60b5a1c0a45cd79ed500dbd4\n",
            "  Stored in directory: /root/.cache/pip/wheels/92/a0/00/8690a57883956a301d91cf4ec999cc0b258b01e3f548f86e89\n",
            "Successfully built blinker\n",
            "\u001b[31mERROR: google-colab 1.0.0 has requirement ipykernel~=4.10, but you'll have ipykernel 5.5.0 which is incompatible.\u001b[0m\n",
            "Installing collected packages: blinker, ipykernel, pydeck, base58, watchdog, validators, smmap, gitdb, gitpython, streamlit\n",
            "  Found existing installation: ipykernel 4.10.1\n",
            "    Uninstalling ipykernel-4.10.1:\n",
            "      Successfully uninstalled ipykernel-4.10.1\n",
            "Successfully installed base58-2.1.0 blinker-1.4 gitdb-4.0.5 gitpython-3.1.13 ipykernel-5.5.0 pydeck-0.6.1 smmap-3.0.5 streamlit-0.77.0 validators-0.18.2 watchdog-2.0.2\n"
          ],
          "name": "stdout"
        },
        {
          "output_type": "display_data",
          "data": {
            "application/vnd.colab-display-data+json": {
              "pip_warning": {
                "packages": [
                  "ipykernel"
                ]
              }
            }
          },
          "metadata": {
            "tags": []
          }
        }
      ]
    },
    {
      "cell_type": "code",
      "metadata": {
        "colab": {
          "base_uri": "https://localhost:8080/"
        },
        "id": "w0KkHMxFSrhf",
        "outputId": "74161919-284f-4470-fa62-3a3994b0ea04"
      },
      "source": [
        "!pip install pyngrok==4.1.1\r\n",
        "from pyngrok import ngrok"
      ],
      "execution_count": 26,
      "outputs": [
        {
          "output_type": "stream",
          "text": [
            "Collecting pyngrok==4.1.1\n",
            "  Downloading https://files.pythonhosted.org/packages/e4/a9/de2e15c92eb3aa4a2646ce3a7542317eb69ac47f667578ce8bf916320847/pyngrok-4.1.1.tar.gz\n",
            "Requirement already satisfied: future in /usr/local/lib/python3.7/dist-packages (from pyngrok==4.1.1) (0.16.0)\n",
            "Requirement already satisfied: PyYAML in /usr/local/lib/python3.7/dist-packages (from pyngrok==4.1.1) (3.13)\n",
            "Building wheels for collected packages: pyngrok\n",
            "  Building wheel for pyngrok (setup.py) ... \u001b[?25l\u001b[?25hdone\n",
            "  Created wheel for pyngrok: filename=pyngrok-4.1.1-cp37-none-any.whl size=15971 sha256=9710d3ed9722764718bd3082f855886154459b0d9cc6df9a675dc1a59b00d661\n",
            "  Stored in directory: /root/.cache/pip/wheels/97/71/0d/1695f7c8815c0beb3b5d9b35d6eec9243c87e6070fbe3977fa\n",
            "Successfully built pyngrok\n",
            "Installing collected packages: pyngrok\n",
            "Successfully installed pyngrok-4.1.1\n"
          ],
          "name": "stdout"
        }
      ]
    },
    {
      "cell_type": "code",
      "metadata": {
        "colab": {
          "base_uri": "https://localhost:8080/"
        },
        "id": "8-22xRcOSx2P",
        "outputId": "7ba7f0c8-a176-4dbc-d784-0639a86648b6"
      },
      "source": [
        "%%writefile app.py\r\n",
        "import streamlit as st\r\n",
        "import numpy as np\r\n",
        "from skimage.io import imread\r\n",
        "from skimage.transform import resize\r\n",
        "import pickle\r\n",
        "from PIL import Image\r\n",
        "\r\n",
        "st.title('IMAGE CLASSIFIER')\r\n",
        "st.text('Upload the image')\r\n",
        "model = pickle.load(open('image_model.p','rb'))\r\n",
        "uploaded_file = st.file_uploader('Choose an image....',type='jpg')\r\n",
        "\r\n",
        "if uploaded_file is not None:\r\n",
        "  img = Image.open(uploaded_file)\r\n",
        "  st.image(img,caption = 'Uploaded image')\r\n",
        "\r\n",
        "if st.button('PREDICT'):\r\n",
        "  categories = ['car','helicopter','motorcycle']\r\n",
        "  st.write('Result....')\r\n",
        "  flat_data = []\r\n",
        "  img = np.array(img)\r\n",
        "  img_resize = resize(img,(150,150,3))\r\n",
        "  flat_data.append(img_resize.flatten()) \r\n",
        "  flat_data = np.array(flat_data)\r\n",
        "  st.write(img.shape)\r\n",
        "  y_out = model.predict(flat_data)\r\n",
        "  y_out = categories[y_out[0]]\r\n",
        "  st.title(f'Predicted output:   {y_out}')\r\n",
        "  q = model.predict_proba(flat_data)\r\n",
        "  for index, item in enumerate(categories):\r\n",
        "    st.write(f'{item} : {q[0][index]*100}%')\r\n"
      ],
      "execution_count": 29,
      "outputs": [
        {
          "output_type": "stream",
          "text": [
            "Overwriting app.py\n"
          ],
          "name": "stdout"
        }
      ]
    },
    {
      "cell_type": "code",
      "metadata": {
        "colab": {
          "base_uri": "https://localhost:8080/"
        },
        "id": "o0F5knx-TVTF",
        "outputId": "7112ef02-a5f4-458f-aad7-e93620b4e53c"
      },
      "source": [
        "!nohup streamlit run app.py &\r\n",
        "\r\n",
        "public_url = ngrok.connect(port='8501')\r\n",
        "print(public_url)"
      ],
      "execution_count": 28,
      "outputs": [
        {
          "output_type": "stream",
          "text": [
            "nohup: appending output to 'nohup.out'\n",
            "http://c7c83cf18b09.ngrok.io\n"
          ],
          "name": "stdout"
        }
      ]
    }
  ]
}
